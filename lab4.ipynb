{
 "cells": [
  {
   "cell_type": "markdown",
   "metadata": {
    "id": "hFU7NXsyyU9d"
   },
   "source": [
    "# **Задания практической работы**"
   ]
  },
  {
   "cell_type": "markdown",
   "metadata": {
    "id": "ofsGiKssyaAa"
   },
   "source": [
    "\n",
    "\n",
    "### Создайте Series из списка чисел [5, 15, 25, 35, 45] с индексами ['a', 'b', 'c', 'd', 'e']. Выведите его на экран и определите его тип данных."
   ]
  },
  {
   "cell_type": "code",
   "execution_count": 19,
   "metadata": {
    "colab": {
     "base_uri": "https://localhost:8080/"
    },
    "id": "Xdl4LKIaxeJF",
    "outputId": "95a8b518-4ff8-4094-90d7-f0744da1845e"
   },
   "outputs": [
    {
     "name": "stdout",
     "output_type": "stream",
     "text": [
      "Массив:\n",
      " a     5\n",
      "b    15\n",
      "c    25\n",
      "d    35\n",
      "e    45\n",
      "dtype: int64\n",
      "\n",
      "Тип данных: int64\n"
     ]
    }
   ],
   "source": [
    "import numpy as np\n",
    "import pandas as pd\n",
    "arr = pd.Series([5, 15, 25, 35, 45], ['a','b','c','d','e'])\n",
    "print(\"Массив:\\n\",arr)\n",
    "print(\"\\nТип данных:\", arr.dtype)"
   ]
  },
  {
   "cell_type": "markdown",
   "metadata": {
    "id": "OIubFTTrzM8O"
   },
   "source": [
    "\n",
    "### Дан Series с индексами ['A', 'B', 'C', 'D', 'E'] и значениями [12, 24, 36, 48, 60]. Используйте .loc[] для получения элемента с индексом 'C' и .iloc[] для получения третьего элемента."
   ]
  },
  {
   "cell_type": "code",
   "execution_count": 43,
   "metadata": {
    "colab": {
     "base_uri": "https://localhost:8080/"
    },
    "id": "iO7mrLcCxpTw",
    "outputId": "d5618a52-d3f2-4227-b729-b51b9f557afc"
   },
   "outputs": [
    {
     "name": "stdout",
     "output_type": "stream",
     "text": [
      "Элемент с индексом 'C': 36\n",
      "\n",
      "Третий элемент: 36\n"
     ]
    }
   ],
   "source": [
    "A = pd.Series([12,24,36,48,60],['A','B','C','D','E'])\n",
    "print(\"Элемент с индексом 'C':\", A.loc['C'])\n",
    "print(\"\\nТретий элемент:\", A.iloc[2])"
   ]
  },
  {
   "cell_type": "markdown",
   "metadata": {
    "id": "pmDdIgrF0mRX"
   },
   "source": [
    "\n",
    "### Создайте Series из массива NumPy np.array([4, 9, 16, 25, 36, 49, 60]). Выберите только те элементы массива, которые больше 20, и выведите результат."
   ]
  },
  {
   "cell_type": "code",
   "execution_count": 254,
   "metadata": {
    "colab": {
     "base_uri": "https://localhost:8080/"
    },
    "id": "jtVsevswz21W",
    "outputId": "b1b38f9a-47bd-4107-9be3-7286755b2872"
   },
   "outputs": [
    {
     "name": "stdout",
     "output_type": "stream",
     "text": [
      "Исходный массив:\n",
      " 0     4\n",
      "1     9\n",
      "2    16\n",
      "3    25\n",
      "4    36\n",
      "5    48\n",
      "6    60\n",
      "dtype: int64\n",
      "\n",
      "Массив с элементами больше 20:\n",
      " 3    25\n",
      "4    36\n",
      "5    48\n",
      "6    60\n",
      "dtype: int64\n"
     ]
    }
   ],
   "source": [
    "B = np.array([4, 9, 16, 25, 36, 48, 60])\n",
    "K = pd.Series(B)\n",
    "print(\"Исходный массив:\\n\",K)\n",
    "F = K[K>20]\n",
    "print(\"\\nМассив с элементами больше 20:\\n\",F)"
   ]
  },
  {
   "cell_type": "markdown",
   "metadata": {
    "id": "GPqhjPuv2oCI"
   },
   "source": [
    "\n",
    "### Создайте Series, содержащий 50 случайных чисел от 1 до 100 (используйте np.random.randint). Выведите первые 7 и последние 5 элементов с помощью .head() и .tail()."
   ]
  },
  {
   "cell_type": "code",
   "execution_count": 65,
   "metadata": {
    "colab": {
     "base_uri": "https://localhost:8080/"
    },
    "id": "0DvObm_Y1HhJ",
    "outputId": "f02e9fd7-790c-47bb-a851-90b7ab70cf36"
   },
   "outputs": [
    {
     "name": "stdout",
     "output_type": "stream",
     "text": [
      "Первые 7 элементов:\n",
      " 0    15\n",
      "1    71\n",
      "2    95\n",
      "3    48\n",
      "4    98\n",
      "5    75\n",
      "6    39\n",
      "dtype: int64\n",
      "\n",
      "Последние 5 элементов:\n",
      " 45     4\n",
      "46    94\n",
      "47    92\n",
      "48    11\n",
      "49    88\n",
      "dtype: int64\n"
     ]
    }
   ],
   "source": [
    "W = pd.Series(np.random.randint(1, 101, size=50))\n",
    "print(\"Первые 7 элементов:\\n\",W.head(7))\n",
    "print(\"\\nПоследние 5 элементов:\\n\",W.tail(5))"
   ]
  },
  {
   "cell_type": "markdown",
   "metadata": {
    "id": "GnZb6K1k3aDt"
   },
   "source": [
    "\n",
    "### Создайте Series из списка ['cat', 'dog', 'rabbit', 'parrot', 'fish']. Определите тип данных с помощью .dtype, затем преобразуйте его в category с помощью .astype()."
   ]
  },
  {
   "cell_type": "code",
   "execution_count": 69,
   "metadata": {
    "colab": {
     "base_uri": "https://localhost:8080/"
    },
    "id": "E3Fw5AJo3Cz8",
    "outputId": "e4e84c57-1efd-49c5-cd0a-043059b31944"
   },
   "outputs": [
    {
     "name": "stdout",
     "output_type": "stream",
     "text": [
      "Тип данных до преобразования: object\n",
      "Тип данных после преобразования: category\n"
     ]
    }
   ],
   "source": [
    "animals = pd.Series(['cat', 'dog', 'rabbit', 'parrot', 'fish'])\n",
    "print(\"Тип данных до преобразования:\", animals.dtype)\n",
    "animals = animals.astype('category')\n",
    "print(\"Тип данных после преобразования:\", animals.dtype)"
   ]
  },
  {
   "cell_type": "markdown",
   "metadata": {
    "id": "s0YHuDwI4IOp"
   },
   "source": [
    "\n",
    "### Создайте Series с данными [1.2, np.nan, 3.4, np.nan, 5.6, 6.8]. Напишите код, который проверяет, есть ли в Series пропущенный значения (NaN), и выведите индексы таких элементов."
   ]
  },
  {
   "cell_type": "code",
   "execution_count": 100,
   "metadata": {
    "colab": {
     "base_uri": "https://localhost:8080/"
    },
    "id": "LeH76YDH333z",
    "outputId": "843f7b1f-cf01-484d-ee2b-fe4237732f7b"
   },
   "outputs": [
    {
     "name": "stdout",
     "output_type": "stream",
     "text": [
      "Исходный массив:\n",
      " 0    1.2\n",
      "1    NaN\n",
      "2    3.4\n",
      "3    NaN\n",
      "4    5.6\n",
      "5    6.8\n",
      "dtype: float64\n",
      "\n",
      "Индексы пропущенных значений:  [1, 3]\n"
     ]
    }
   ],
   "source": [
    "nan = pd.Series([1.2, np.nan, 3.4, np.nan, 5.6, 6.8])\n",
    "print(\"Исходный массив:\\n\",nan)\n",
    "filtered_nan = nan[nan.isna()].index\n",
    "print(\"\\nИндексы пропущенных значений: \",list(filtered_nan))"
   ]
  },
  {
   "cell_type": "markdown",
   "metadata": {
    "id": "DpdK0q5k7uhq"
   },
   "source": [
    "\n",
    "### Используйте Series из предыдущего задания и замените все NaN на среднее значение всех непустых элементов. Выведите результат."
   ]
  },
  {
   "cell_type": "code",
   "execution_count": 105,
   "metadata": {
    "colab": {
     "base_uri": "https://localhost:8080/"
    },
    "id": "UPNPXAQ24-cb",
    "outputId": "e834763a-54c1-4e46-ef65-b704bb7b7e53"
   },
   "outputs": [
    {
     "name": "stdout",
     "output_type": "stream",
     "text": [
      "Исходный массив:\n",
      " 0    1.2\n",
      "1    NaN\n",
      "2    3.4\n",
      "3    NaN\n",
      "4    5.6\n",
      "5    6.8\n",
      "dtype: float64\n",
      "\n",
      "Среднее значение всех непустых элементов:  4.25\n",
      "\n",
      "Массив с замененными NaN на среднее значение всех непустых элементов:\n",
      " 0    1.20\n",
      "1    4.25\n",
      "2    3.40\n",
      "3    4.25\n",
      "4    5.60\n",
      "5    6.80\n",
      "dtype: float64\n"
     ]
    }
   ],
   "source": [
    "nan = pd.Series([1.2, np.nan, 3.4, np.nan, 5.6, 6.8])\n",
    "print(\"Исходный массив:\\n\",nan)\n",
    "average = nan.mean()\n",
    "print(\"\\nСреднее значение всех непустых элементов: \",average)\n",
    "filtered_nan = nan.fillna(average)\n",
    "print(\"\\nМассив с замененными NaN на среднее значение всех непустых элементов:\\n\",filtered_nan)"
   ]
  },
  {
   "cell_type": "markdown",
   "metadata": {
    "id": "iVtLaJrY89Yh"
   },
   "source": [
    "\n",
    "### Создайте два Series:\n",
    "### • s1 = pd.Series([10, 20, 30, 40], index=['a', 'b', 'c', 'd'])\n",
    "### • s2 = pd.Series([5, 15, 25, 35], index=['b', 'c', 'd', 'e'])\n",
    "### Выполните сложение s1 + s2. Обьясните, почему в результате появляются NaN, и замените их на 0."
   ]
  },
  {
   "cell_type": "code",
   "execution_count": 114,
   "metadata": {
    "colab": {
     "base_uri": "https://localhost:8080/"
    },
    "id": "GhVJbUyx8Utp",
    "outputId": "296764fb-44ae-4509-d27c-16c6bd2740f1"
   },
   "outputs": [
    {
     "name": "stdout",
     "output_type": "stream",
     "text": [
      "Массив после сложения элементов:\n",
      " a     NaN\n",
      "b    25.0\n",
      "c    45.0\n",
      "d    65.0\n",
      "e     NaN\n",
      "dtype: float64\n",
      "\n",
      "Массив после замены NaN на 0:\n",
      " a     0.0\n",
      "b    25.0\n",
      "c    45.0\n",
      "d    65.0\n",
      "e     0.0\n",
      "dtype: float64\n",
      "\n",
      "В результате сложения мы получили NaN, т.к операция сложения выполняется по индексам,\n",
      "поскольку индекс 'a' и 'e' отсутствовали в первом и втором массиве соответственно, они получили значение NaN.\n"
     ]
    }
   ],
   "source": [
    "s1 = pd.Series([10,20,30,40], index=['a','b','c','d'])\n",
    "s2 = pd.Series([5,15,25,35], index=['b','c','d','e'])\n",
    "s3 = s1+s2\n",
    "print(\"Массив после сложения элементов:\\n\",s3)\n",
    "s4 = s3.fillna(0)\n",
    "print(\"\\nМассив после замены NaN на 0:\\n\", s4)\n",
    "print(\"\\nВ результате сложения мы получили NaN, т.к операция сложения выполняется по индексам,\\nпоскольку индекс 'a' и 'e' отсутствовали в первом и втором массиве соответственно, они получили значение NaN.\")"
   ]
  },
  {
   "cell_type": "markdown",
   "metadata": {
    "id": "LsvTfXBn_sy6"
   },
   "source": [
    "\n",
    "### Создайте Series из чисел [2, 4, 6, 8, 10]. Напишите код, который применяет к каждому элементу функцию вычисления квадратного корня с помощью .apply(np.sqrt)."
   ]
  },
  {
   "cell_type": "code",
   "execution_count": 117,
   "metadata": {
    "colab": {
     "base_uri": "https://localhost:8080/"
    },
    "id": "1c671HP-9xH7",
    "outputId": "0bc8a73a-3a0b-4a31-909b-2e0fb6113496"
   },
   "outputs": [
    {
     "name": "stdout",
     "output_type": "stream",
     "text": [
      "Исходный массив:\n",
      " 0     2\n",
      "1     4\n",
      "2     6\n",
      "3     8\n",
      "4    10\n",
      "dtype: int64\n",
      "\n",
      "Массив после вычисления квадратного корня для каждого элемента:\n",
      " 0    1.414214\n",
      "1    2.000000\n",
      "2    2.449490\n",
      "3    2.828427\n",
      "4    3.162278\n",
      "dtype: float64\n"
     ]
    }
   ],
   "source": [
    "s = pd.Series([2, 4, 6, 8, 10])\n",
    "print(\"Исходный массив:\\n\",s)\n",
    "s_sqrt = s.apply(np.sqrt)\n",
    "print(\"\\nМассив после вычисления квадратного корня для каждого элемента:\\n\",s_sqrt)"
   ]
  },
  {
   "cell_type": "markdown",
   "metadata": {
    "id": "FY3UJfEnAi3f"
   },
   "source": [
    "\n",
    "### Создайте Series из 20 случайных чисел от 50 до 150 (используйте np.random.randint). Найдите сумму, среднее, минимальное и максимальное значение. Выведите также стандартное отклонение."
   ]
  },
  {
   "cell_type": "code",
   "execution_count": 127,
   "metadata": {
    "colab": {
     "base_uri": "https://localhost:8080/"
    },
    "id": "Z34zLqQuAGH4",
    "outputId": "024cf667-b618-48c9-82d2-b14f17745b33"
   },
   "outputs": [
    {
     "name": "stdout",
     "output_type": "stream",
     "text": [
      "Массив:\n",
      " 0     148\n",
      "1      62\n",
      "2      57\n",
      "3      60\n",
      "4     121\n",
      "5     111\n",
      "6      85\n",
      "7      78\n",
      "8     144\n",
      "9     111\n",
      "10     57\n",
      "11     90\n",
      "12    145\n",
      "13     70\n",
      "14     88\n",
      "15     61\n",
      "16    125\n",
      "17     80\n",
      "18    147\n",
      "19    104\n",
      "dtype: int64\n",
      "\n",
      "Сумма элементов: 1944\n",
      "\n",
      "Среднее значение: 97.2\n",
      "\n",
      "Минимальное значение: 57\n",
      "\n",
      "Максимальное значение: 148\n",
      "\n",
      "Стандратное отклонение: 32.57154069364689\n",
      "\n",
      " count     20.000000\n",
      "mean      97.200000\n",
      "std       32.571541\n",
      "min       57.000000\n",
      "25%       68.000000\n",
      "50%       89.000000\n",
      "75%      122.000000\n",
      "max      148.000000\n",
      "dtype: float64\n"
     ]
    }
   ],
   "source": [
    "a = pd.Series(np.random.randint(50, 151, size=20))\n",
    "print(\"Массив:\\n\",a)\n",
    "print(\"\\nСумма элементов:\", a.sum())\n",
    "print(\"\\nСреднее значение:\", a.mean())\n",
    "print(\"\\nМинимальное значение:\", a.min())\n",
    "print(\"\\nМаксимальное значение:\", a.max())\n",
    "print(\"\\nСтандратное отклонение:\", a.std())\n",
    "print(\"\\n\",a.describe())"
   ]
  },
  {
   "cell_type": "markdown",
   "metadata": {
    "id": "72ETF9-nCp2n"
   },
   "source": [
    "\n",
    "### Создайте Series, где индексами будут даты с 1 по 10 марта 2024 года (pd.date_range(start='2024-03-01', periods=10, freq='D')), а значениями - случайные числа от 10 до 100. Выберите данные за 5-8 марта."
   ]
  },
  {
   "cell_type": "code",
   "execution_count": 130,
   "metadata": {
    "colab": {
     "base_uri": "https://localhost:8080/"
    },
    "id": "UwFdnt5jBDkr",
    "outputId": "5489eb66-baca-4b94-b1da-15f1e2b57e6c"
   },
   "outputs": [
    {
     "name": "stdout",
     "output_type": "stream",
     "text": [
      "Исходные данные:\n",
      " 2024-03-01     70\n",
      "2024-03-02     10\n",
      "2024-03-03     35\n",
      "2024-03-04    100\n",
      "2024-03-05     18\n",
      "2024-03-06     61\n",
      "2024-03-07     16\n",
      "2024-03-08     16\n",
      "2024-03-09     97\n",
      "2024-03-10     50\n",
      "Freq: D, dtype: int64\n",
      "\n",
      "Данные за 5-8 марта:\n",
      " 2024-03-05    18\n",
      "2024-03-06    61\n",
      "2024-03-07    16\n",
      "2024-03-08    16\n",
      "Freq: D, dtype: int64\n"
     ]
    }
   ],
   "source": [
    "date = pd.date_range(start='2024-03-01', periods=10, freq='D')\n",
    "values = np.random.randint(10, 101, size=10)\n",
    "d = pd.Series(values, index=date)\n",
    "date_new = d['2024-03-05':'2024-03-08']\n",
    "print(\"Исходные данные:\\n\", d)\n",
    "print(\"\\nДанные за 5-8 марта:\\n\", date_new)"
   ]
  },
  {
   "cell_type": "markdown",
   "metadata": {
    "id": "PCRx6amlIeZn"
   },
   "source": [
    "\n",
    "### Создайте Series с индексами ['A', 'B', 'A', 'C', 'D', 'B'] и значениями [10, 20, 30, 40, 50, 60]. Проверьте, являются ли индексы уникальными. Если нет, сгруппируйте повторяющиеся индексы и сложите их значения."
   ]
  },
  {
   "cell_type": "code",
   "execution_count": 145,
   "metadata": {
    "colab": {
     "base_uri": "https://localhost:8080/"
    },
    "id": "u92KHCxiIFBd",
    "outputId": "f01fa752-d680-4360-e216-a5a0f16ab263"
   },
   "outputs": [
    {
     "name": "stdout",
     "output_type": "stream",
     "text": [
      "Исходный массив:\n",
      " A    10\n",
      "B    20\n",
      "A    30\n",
      "C    40\n",
      "D    50\n",
      "B    60\n",
      "dtype: int64\n",
      "\n",
      "Проверка уникальности индексов: False\n",
      "\n",
      "Массив после группировки:\n",
      " A    40\n",
      "B    80\n",
      "C    40\n",
      "D    50\n",
      "dtype: int64\n"
     ]
    }
   ],
   "source": [
    "s = pd.Series([10, 20, 30, 40, 50, 60], ['A','B','A','C','D','B'])\n",
    "print(\"Исходный массив:\\n\",s)\n",
    "print(\"\\nПроверка уникальности индексов:\",s.index.is_unique)\n",
    "s = s.groupby(level=0).sum()\n",
    "print(\"\\nМассив после группировки:\\n\",s)"
   ]
  },
  {
   "cell_type": "markdown",
   "metadata": {
    "id": "nYkBk4_PMgYB"
   },
   "source": [
    "\n",
    "### Создайте Series, где индексами будут строки ['2024-03-10', '2024-03-11', '2024-03-12'], а значениями [100, 200, 300]. Преобразуйте индексы в DatatimeIndex и выведите тип данных индекса."
   ]
  },
  {
   "cell_type": "code",
   "execution_count": 157,
   "metadata": {
    "colab": {
     "base_uri": "https://localhost:8080/"
    },
    "id": "-1MPr-BDJE2O",
    "outputId": "7bb38c26-edc1-4d6b-912e-2aa114334b36"
   },
   "outputs": [
    {
     "name": "stdout",
     "output_type": "stream",
     "text": [
      "Тип данных индекса до преобразования: object\n",
      "\n",
      "Тип данных индекса после преобразования: datetime64[ns]\n"
     ]
    }
   ],
   "source": [
    "s = pd.Series([100, 200, 300], index=['2024-03-10','2024-03-11','2024-03-12'])\n",
    "print(\"Тип данных индекса до преобразования:\",s.index.dtype)\n",
    "s.index = pd.to_datetime(s.index)\n",
    "print(\"\\nТип данных индекса после преобразования:\",s.index.dtype)"
   ]
  },
  {
   "cell_type": "markdown",
   "metadata": {
    "id": "MIYz4lpgOdKd"
   },
   "source": [
    "\n",
    "### Создайте CSV-файл data.csv со следующими данными:\n",
    "### 1 Дата, Цена\n",
    "### 2 2024-03-01, 100\n",
    "### 3 2024-03-02, 110\n",
    "### 4 2024-03-03, 105\n",
    "### 5 2024-03-04, 120\n",
    "### 6 2024-03-05, 115\n",
    "### Прочитайте файл и создайте Series, используя \"Дата\" в качестве индекса."
   ]
  },
  {
   "cell_type": "code",
   "execution_count": 218,
   "metadata": {
    "colab": {
     "base_uri": "https://localhost:8080/"
    },
    "id": "51F_2z7dSl7z",
    "outputId": "b5a5ba37-f91e-4f53-ec6e-0b39eaf506ba"
   },
   "outputs": [
    {
     "name": "stdout",
     "output_type": "stream",
     "text": [
      "Дата\n",
      "2024-03-01    100\n",
      "2024-03-02    110\n",
      "2024-03-03    105\n",
      "2024-03-04    120\n",
      "2024-03-05    115\n",
      "dtype: int64\n"
     ]
    }
   ],
   "source": [
    "data = {\n",
    "    'Дата': ['2024-03-01', '2024-03-02', '2024-03-03', '2024-03-04', '2024-03-05'],\n",
    "    'Цена': [100, 110, 105, 120, 115]\n",
    "}\n",
    "df = pd.DataFrame(data)\n",
    "df.to_csv('data.csv', index=False)\n",
    "df = pd.read_csv('data.csv', parse_dates=['Дата'])\n",
    "s = pd.Series(df['Цена'].values, index=df['Дата'])\n",
    "print(s)"
   ]
  },
  {
   "cell_type": "markdown",
   "metadata": {
    "id": "-tVDnQ9meIzj"
   },
   "source": [
    "\n",
    "### Создайте Series, где индексами будут даты с 1 по 30 марта 2024 года, а значениями - случайные числа от 50 до 150. Постройте график значений с помощью matplotlib. Добавьте заголовок подписи осей и сетку"
   ]
  },
  {
   "cell_type": "code",
   "execution_count": 21,
   "metadata": {
    "colab": {
     "base_uri": "https://localhost:8080/",
     "height": 604
    },
    "id": "xEpJ_Rc1S3gt",
    "outputId": "7408f902-200a-49b9-ff62-d749ce3105fb"
   },
   "outputs": [
    {
     "data": {
      "image/png": "[encoded data removed]",
      "text/plain": [
       "<Figure size 640x480 with 1 Axes>"
      ]
     },
     "metadata": {},
     "output_type": "display_data"
    }
   ],
   "source": [
    "import matplotlib.pyplot as plt\n",
    "s = pd.Series(np.random.uniform(50,150,size=30),index=pd.date_range(start='2024-03-01', periods=30, freq='D'))\n",
    "s.plot(kind='bar',color='green')\n",
    "plt.xlabel('Дата')\n",
    "plt.ylabel('Выручка')\n",
    "plt.title('Продажи за март 2025')\n",
    "plt.grid()\n",
    "plt.show()"
   ]
  },
  {
   "cell_type": "markdown",
   "metadata": {
    "id": "aWU5sVl_g5dG"
   },
   "source": [
    "# **Индивидуальное задание**"
   ]
  },
  {
   "cell_type": "markdown",
   "metadata": {
    "id": "0Xr7YG5vg9i0"
   },
   "source": [
    "# **Вариант 15.**\n",
    "### Создайте CSV-файл water_usage.csv со следующими данными:\n",
    "**Прочитайте файл, установите DatetimeIndex , найдите среднее дневное\n",
    "потребление и постройте график с выделением дней выше среднего.**\n",
    "### Дата,Потребление воды (м³)\n",
    "### 2024-10-01,12000\n",
    "### 2024-10-02,12500\n",
    "### 2024-10-03,11800\n",
    "### 2024-10-04,13000\n",
    "### 2024-10-05,13500"
   ]
  },
  {
   "cell_type": "code",
   "execution_count": 68,
   "metadata": {
    "colab": {
     "base_uri": "https://localhost:8080/",
     "height": 527
    },
    "id": "KkYvLk4afHqh",
    "outputId": "9b2cfbc6-c6a6-4283-eb2d-0cfa80bca7ac"
   },
   "outputs": [
    {
     "data": {
      "image/png": "[encoded data removed]",
      "text/plain": [
       "<Figure size 1000x600 with 1 Axes>"
      ]
     },
     "metadata": {},
     "output_type": "display_data"
    }
   ],
   "source": [
    "import pandas as pd\n",
    "import matplotlib.pyplot as plt\n",
    "\n",
    "\n",
    "data = {\n",
    "    'Дата': ['2024-10-01', '2024-10-02', '2024-10-03', '2024-10-04', '2024-10-05'],\n",
    "    'Потребление': [12000, 12500, 11800, 13000, 13500]\n",
    "}\n",
    "pd.DataFrame(data).to_csv('water_usage.csv', index=False)\n",
    "\n",
    "df = pd.read_csv('water_usage.csv', parse_dates=['Дата'])\n",
    "series = df.set_index('Дата')['Потребление']\n",
    "\n",
    "mean_cons = series.mean()\n",
    "plt.figure(figsize=(10, 6))\n",
    "\n",
    "# Создаем список цветов для каждого столбца\n",
    "colors = ['red' if val > mean_cons else 'green' for val in series]\n",
    "\n",
    "bars = plt.bar(series.index, series.values, color=colors, width=0.6)\n",
    "\n",
    "# Добавляем линию среднего\n",
    "plt.axhline(y=mean_cons, color='red', linestyle='--', \n",
    "           linewidth=2, label=f'Среднее: {mean_cons} м³')\n",
    "plt.title('Потребление воды в городе', pad=20, fontsize=14)\n",
    "plt.xlabel('Дата', labelpad=10, fontsize=12)\n",
    "plt.ylabel('Потребление воды (м³)', labelpad=10, fontsize=12)\n",
    "plt.grid(axis='y', linestyle='--', alpha=0.7)\n",
    "plt.legend(fontsize=10)\n",
    "plt.xticks(rotation=45, ha='right')\n",
    "\n",
    "\n",
    "plt.tight_layout()\n",
    "for bar in bars:\n",
    "    height = bar.get_height()\n",
    "    plt.text(bar.get_x() + bar.get_width()/2., height,\n",
    "            f'{height}',\n",
    "            ha='center', va='bottom')\n",
    "\n",
    "plt.show()"
   ]
  },
  {
   "cell_type": "code",
   "execution_count": null,
   "metadata": {},
   "outputs": [],
   "source": []
  },
  {
   "cell_type": "code",
   "execution_count": null,
   "metadata": {
    "id": "u4H_caJmh-fJ"
   },
   "outputs": [],
   "source": []
  }
 ],
 "metadata": {
  "colab": {
   "provenance": []
  },
  "kernelspec": {
   "display_name": "Python [conda env:base] *",
   "language": "python",
   "name": "conda-base-py"
  },
  "language_info": {
   "codemirror_mode": {
    "name": "ipython",
    "version": 3
   },
   "file_extension": ".py",
   "mimetype": "text/x-python",
   "name": "python",
   "nbconvert_exporter": "python",
   "pygments_lexer": "ipython3",
   "version": "3.12.7"
  }
 },
 "nbformat": 4,
 "nbformat_minor": 4
}
